{
 "cells": [
  {
   "cell_type": "code",
   "execution_count": 1,
   "id": "051c89b4",
   "metadata": {},
   "outputs": [],
   "source": [
    "import matplotlib.pyplot as plt\n",
    "import numpy as np\n",
    "from scipy.stats import linregress\n",
    "from scipy.interpolate import interp1d\n",
    "import matplotlib.dates as mdates"
   ]
  },
  {
   "cell_type": "code",
   "execution_count": 2,
   "id": "af54db7c",
   "metadata": {},
   "outputs": [],
   "source": [
    "dates_mesures = np.array(['2024-11-04', '2024-12-16', '2025-01-13', '2025-02-14', '2025-03-14', '2025-04-23', '2025-05-19'], dtype='datetime64[D]')"
   ]
  },
  {
   "cell_type": "code",
   "execution_count": 3,
   "id": "865599c8",
   "metadata": {},
   "outputs": [],
   "source": [
    "debit_fb = np.array([491.3, 237.4, np.nan, np.nan, 107.1, 283.7, 747.8])"
   ]
  },
  {
   "cell_type": "code",
   "execution_count": null,
   "id": "7805486b",
   "metadata": {},
   "outputs": [
    {
     "data": {
      "image/png": "[encoded data removed]",
      "text/plain": [
       "<Figure size 430x250 with 1 Axes>"
      ]
     },
     "metadata": {},
     "output_type": "display_data"
    }
   ],
   "source": [
    "plt.figure(figsize=(4.3,2.5))\n",
    "\n",
    "#plt.scatter(dates_mesures, debit_fb, marker = 'o', color='purple', lw=0.5)\n",
    "plt.bar(dates_mesures[0], [613.2], width=5, color='skyblue', alpha=0.7)\n",
    "plt.bar(dates_mesures, debit_fb, width=5, color='purple', alpha=0.7)\n",
    "\n",
    "\n",
    "\n",
    "# Formater les dates sur l'axe x\n",
    "plt.gca().xaxis.set_major_formatter(mdates.DateFormatter('%d.%m'))\n",
    "plt.gca().tick_params(axis='x', rotation=45)\n",
    "plt.gca().xaxis.set_tick_params(labelbottom=True)\n",
    "\n",
    "plt.ylabel(\"Débit [l/s]\")\n",
    "#plt.legend(loc='center left', bbox_to_anchor=(1, 0.5))\n",
    "#plt.title('Evolution du titre al dans l\\'eau')\n",
    "\n",
    "plt.grid(alpha=0.3)\n",
    "#plt.savefig('evolution_debit_fb.png', dpi=300, bbox_inches='tight')\n",
    "plt.show()"
   ]
  },
  {
   "cell_type": "code",
   "execution_count": null,
   "id": "16e730e9",
   "metadata": {},
   "outputs": [],
   "source": []
  }
 ],
 "metadata": {
  "kernelspec": {
   "display_name": "base",
   "language": "python",
   "name": "python3"
  },
  "language_info": {
   "codemirror_mode": {
    "name": "ipython",
    "version": 3
   },
   "file_extension": ".py",
   "mimetype": "text/x-python",
   "name": "python",
   "nbconvert_exporter": "python",
   "pygments_lexer": "ipython3",
   "version": "3.12.4"
  }
 },
 "nbformat": 4,
 "nbformat_minor": 5
}
